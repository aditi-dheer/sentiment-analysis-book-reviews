{
  "cells": [
    {
      "cell_type": "code",
      "execution_count": 4,
      "metadata": {
        "id": "XKul0Pi9f8R1"
      },
      "outputs": [],
      "source": [
        "import pandas as pd\n",
        "import numpy as np\n",
        "import os\n",
        "import matplotlib.pyplot as plt\n",
        "import seaborn as sns"
      ]
    },
    {
      "cell_type": "code",
      "execution_count": 5,
      "metadata": {
        "id": "CS8VC4ybhvr2"
      },
      "outputs": [],
      "source": [
        "from sklearn.model_selection import train_test_split\n",
        "from sklearn.linear_model import LogisticRegression\n",
        "from sklearn.metrics import roc_auc_score"
      ]
    },
    {
      "cell_type": "markdown",
      "metadata": {
        "id": "XK1pEt55hxb1"
      },
      "source": [
        "## Step 1: Build The DataFrame and Define ML Problem"
      ]
    },
    {
      "cell_type": "code",
      "execution_count": 6,
      "metadata": {
        "id": "8FAqlFTzh0pt"
      },
      "outputs": [],
      "source": [
        "filename = os.path.join(os.getcwd(), \"data\", \"bookReviews.csv\")\n",
        "df = pd.read_csv(filename, header=0)"
      ]
    },
    {
      "cell_type": "code",
      "execution_count": 7,
      "metadata": {
        "colab": {
          "base_uri": "https://localhost:8080/",
          "height": 206
        },
        "id": "xruhupUrh3AX",
        "outputId": "1078b9db-41c4-4699-e930-92c817ce7ab9"
      },
      "outputs": [
        {
          "data": {
            "text/html": [
              "<div>\n",
              "<style scoped>\n",
              "    .dataframe tbody tr th:only-of-type {\n",
              "        vertical-align: middle;\n",
              "    }\n",
              "\n",
              "    .dataframe tbody tr th {\n",
              "        vertical-align: top;\n",
              "    }\n",
              "\n",
              "    .dataframe thead th {\n",
              "        text-align: right;\n",
              "    }\n",
              "</style>\n",
              "<table border=\"1\" class=\"dataframe\">\n",
              "  <thead>\n",
              "    <tr style=\"text-align: right;\">\n",
              "      <th></th>\n",
              "      <th>Review</th>\n",
              "      <th>Positive Review</th>\n",
              "    </tr>\n",
              "  </thead>\n",
              "  <tbody>\n",
              "    <tr>\n",
              "      <th>0</th>\n",
              "      <td>This was perhaps the best of Johannes Steinhof...</td>\n",
              "      <td>True</td>\n",
              "    </tr>\n",
              "    <tr>\n",
              "      <th>1</th>\n",
              "      <td>This very fascinating book is a story written ...</td>\n",
              "      <td>True</td>\n",
              "    </tr>\n",
              "    <tr>\n",
              "      <th>2</th>\n",
              "      <td>The four tales in this collection are beautifu...</td>\n",
              "      <td>True</td>\n",
              "    </tr>\n",
              "    <tr>\n",
              "      <th>3</th>\n",
              "      <td>The book contained more profanity than I expec...</td>\n",
              "      <td>False</td>\n",
              "    </tr>\n",
              "    <tr>\n",
              "      <th>4</th>\n",
              "      <td>We have now entered a second time of deep conc...</td>\n",
              "      <td>True</td>\n",
              "    </tr>\n",
              "  </tbody>\n",
              "</table>\n",
              "</div>"
            ],
            "text/plain": [
              "                                              Review  Positive Review\n",
              "0  This was perhaps the best of Johannes Steinhof...             True\n",
              "1  This very fascinating book is a story written ...             True\n",
              "2  The four tales in this collection are beautifu...             True\n",
              "3  The book contained more profanity than I expec...            False\n",
              "4  We have now entered a second time of deep conc...             True"
            ]
          },
          "execution_count": 7,
          "metadata": {},
          "output_type": "execute_result"
        }
      ],
      "source": [
        "df.head()"
      ]
    },
    {
      "cell_type": "markdown",
      "metadata": {
        "id": "-cYT50urh7oD"
      },
      "source": [
        "## Step 2. Create Labeled Examples from the Data Set\n",
        "Let's create labeled examples from our dataset. We will have one text feature and one label.\n",
        "The code cell below carries out the following steps:\n",
        "\n",
        "* Gets the `Positive_Review` column from DataFrame `df` and assign it to the variable `y`. This will be our label. Note that the label contains True or False values that indicate whether a given book review is a positive one.\n",
        "* Gets the column `Review` from DataFrame `df` and assigns it to the variable `X`. This will be our feature. Note that the `Review` feature contains the book review."
      ]
    },
    {
      "cell_type": "code",
      "execution_count": 8,
      "metadata": {
        "colab": {
          "base_uri": "https://localhost:8080/"
        },
        "id": "vnTO4mwzh-hY",
        "outputId": "d2653364-2006-47fd-fa1d-faaec1bb664b"
      },
      "outputs": [
        {
          "data": {
            "text/plain": [
              "(1973,)"
            ]
          },
          "execution_count": 8,
          "metadata": {},
          "output_type": "execute_result"
        }
      ],
      "source": [
        "y = df['Positive Review']\n",
        "X = df['Review']\n",
        "\n",
        "X.shape"
      ]
    },
    {
      "cell_type": "code",
      "execution_count": 9,
      "metadata": {
        "colab": {
          "base_uri": "https://localhost:8080/",
          "height": 241
        },
        "id": "RFLAjVSZiAD3",
        "outputId": "924dd0cf-59d3-4aa9-84ba-bb57631c8f31"
      },
      "outputs": [
        {
          "data": {
            "text/plain": [
              "0    This was perhaps the best of Johannes Steinhof...\n",
              "1    This very fascinating book is a story written ...\n",
              "2    The four tales in this collection are beautifu...\n",
              "3    The book contained more profanity than I expec...\n",
              "4    We have now entered a second time of deep conc...\n",
              "Name: Review, dtype: object"
            ]
          },
          "execution_count": 9,
          "metadata": {},
          "output_type": "execute_result"
        }
      ],
      "source": [
        "X.head()"
      ]
    },
    {
      "cell_type": "code",
      "execution_count": 10,
      "metadata": {
        "colab": {
          "base_uri": "https://localhost:8080/"
        },
        "id": "PGEZExS2iBNR",
        "outputId": "b53a3d01-d7e5-4785-f339-be35cd35ec81"
      },
      "outputs": [
        {
          "name": "stdout",
          "output_type": "stream",
          "text": [
            "A Positive Review: \n",
            "\n",
            " I am not going to go over the contents of the book, or much about Charles Bukowski, because if you are considering this book you must know something about the man and his work. I will just give you my impression of this collection of work.\n",
            "No collection can ever really be complete, there are always new things to add, new commentary, newly discovered works, transcripts of records and unpublished letters, but this book does an excellent job in its attempt.\n",
            "To me Charles Bukowski will always be one of the greatest American writers of the twentieth century, because of the sheer brutality and honesty his work emanates. It is funny, sad, sadistic, cruel, scathing, enlightening and thought provoking. Everything I like to read. This is poetry for people who are disgusted by verse of flowers, trees and Greek mythology. This is RAW human emotion and experience smeared out onto paper. It is not perfect, and it is not trying to be. It doesn't always work, but there in lies the subtle beauty of Bukowski's efforts. the guts to try. The attempts at honesty, clearly blocked by his unwillingness to divulge everything, and his cynicism of man. \n",
            "This book has one of the most moving, amazing, and insightful poems...or anything else...ever written.  It is called The Genius Of The Crowd. If you read that work of art and are not moved...nothing will.\n",
            "This collection is shocking in its beauty, and inspiring by its simplicity. Enjoy\n",
            "\n",
            "A Negative Review: \n",
            "\n",
            " Having read a few Bosch books already (The Closers and Lost Light), I realized that I should probably start at the beginning to get better insight on how Bosch became the Bosch I was reading in the later series.  However, I was very disappointed with this book.  One of the most irritating aspects of this book was the grammatical errors (mispellings and such).  I found 3 or 4 in the first 50 pages (before I stopped reading)!  I thought it was ironic that Connelly was thanking his editor at the beginning of the book, because it did not seem that anyone was editing this book.  Also, I found the book to be too gritty.  It lacked the emotion and soul that I found in the later books.  It seemed that Connelly was trying too hard to make Bosch fit this certain mold, but then transformed the character to be more likeable in the later books that I read.  So it was disappointing that this book could not hold my interest because I just finished reading The Narrows and loved it, and will probably pick up some other Bosch books and just read it out of order.  Connelly's writing seems to be getting better and better, which should explain why I didn't enjoy this book and couldn't finish it.  I gave it 2 stars because it might have gotten better and maybe I was too impatient.  This is one of those series that seems like it is better to read out of order\n",
            "\n"
          ]
        }
      ],
      "source": [
        "print('A Positive Review: \\n\\n', X[67])\n",
        "print('A Negative Review: \\n\\n', X[85])"
      ]
    },
    {
      "cell_type": "markdown",
      "metadata": {
        "id": "1QDKaD_ZiFhR"
      },
      "source": [
        "## Step 3: Create Training and Test Data Sets\n"
      ]
    },
    {
      "cell_type": "code",
      "execution_count": 11,
      "metadata": {
        "colab": {
          "base_uri": "https://localhost:8080/",
          "height": 241
        },
        "id": "8-LafyrXiF5W",
        "outputId": "ca5d5757-e180-48d9-d8c3-36be67b89b15"
      },
      "outputs": [
        {
          "data": {
            "text/plain": [
              "500     There is a reason this book has sold over 180,...\n",
              "1047    There is one thing that every cookbook author ...\n",
              "1667    Being an engineer in the aerospace industry I ...\n",
              "1646    I have no idea how this book has received the ...\n",
              "284     It is almost like dream comes true when I saw ...\n",
              "Name: Review, dtype: object"
            ]
          },
          "execution_count": 11,
          "metadata": {},
          "output_type": "execute_result"
        }
      ],
      "source": [
        "X_train, X_test, y_train, y_test = train_test_split(X, y, train_size=.75, random_state=1234)\n",
        "\n",
        "X_train.head()"
      ]
    },
    {
      "cell_type": "markdown",
      "metadata": {
        "id": "MlRgG-0fiMap"
      },
      "source": [
        "## Step 4:  Implement TF-IDF Vectorizer to Transform Text\n",
        "\n",
        "A popular technique when transforming text to numerical feature vectors is to use the TF-IDF statistical measure. TF-IDF calculates how relevant a word (token) is in a document relative to a collection of documents. It weighs words to indicate the words that are the most unique to the document and therefore can be used to represent the characteristics of the document. For example, the word \"the\" appears in many documents and therefore is not characteristic of one particular document in a collection. On the other hand, if a word appears often in one document and rarely in other documents in the collection, the word is given a higher value of importance to that one document.\n",
        "Because TF-IDF provides an understanding of the context of the textual data, using TF-IDF features when performing classification for sentiment analysis yields more accurate results."
      ]
    },
    {
      "cell_type": "code",
      "execution_count": 12,
      "metadata": {
        "id": "3VJYFqX9iPOe"
      },
      "outputs": [],
      "source": [
        "from sklearn.feature_extraction.text import TfidfVectorizer"
      ]
    },
    {
      "cell_type": "code",
      "execution_count": null,
      "metadata": {
        "colab": {
          "base_uri": "https://localhost:8080/"
        },
        "id": "wJZhmhi5iPve",
        "outputId": "c7dac26b-2f13-4f8c-cb0b-b38e665d9f63"
      },
      "outputs": [
        {
          "name": "stdout",
          "output_type": "stream",
          "text": [
            "Vocabulary size 18558: \n",
            "[('there', 16673), ('is', 9043), ('reason', 13533), ('this', 16714), ('book', 2189), ('has', 7803), ('sold', 15423), ('over', 11793), ('180', 73), ('000', 1), ('copies', 3867), ('it', 9076), ('gets', 7240), ('right', 14207), ('to', 16835), ('the', 16627), ('point', 12568), ('accompanies', 444), ('each', 5372), ('strategy', 15943), ('with', 18277), ('visual', 17844), ('aid', 750), ('so', 15386), ('you', 18497), ('can', 2604), ('get', 7239), ('mental', 10534), ('picture', 12402), ('in', 8491), ('your', 18501), ('head', 7844), ('further', 7051), ('its', 9088), ('section', 14743), ('on', 11601), ('analyzing', 974), ('stocks', 15886), ('and', 984), ('commentary', 3384), ('state', 15782), ('of', 11543), ('financial', 6568), ('statements', 15786), ('market', 10286), ('are', 1220), ('money', 10863), ('if', 8336), ('just', 9282), ('starting', 15774)]\n",
            "\n",
            "[[0.         0.16185315 0.         ... 0.         0.         0.        ]\n",
            " [0.         0.         0.         ... 0.         0.         0.        ]\n",
            " [0.         0.01923341 0.         ... 0.         0.         0.        ]\n",
            " ...\n",
            " [0.         0.         0.         ... 0.         0.         0.        ]\n",
            " [0.         0.         0.         ... 0.         0.         0.        ]\n",
            " [0.         0.         0.         ... 0.         0.         0.        ]]\n"
          ]
        }
      ],
      "source": [
        "# 1. Create a TfidfVectorizer object\n",
        "tfidf_vectorizer = TfidfVectorizer()\n",
        "\n",
        "# 2. Fit the vectorizer to X_train\n",
        "tfidf_vectorizer.fit(X_train)\n",
        "\n",
        "# 3. Print the first 50 items in the vocabulary\n",
        "print(\"Vocabulary size {0}: \".format(len(tfidf_vectorizer.vocabulary_)))\n",
        "print(str(list(tfidf_vectorizer.vocabulary_.items())[0:50])+'\\n')\n",
        "\n",
        "\n",
        "# 4. Transform the training and test data using the fitted vectorizer and its 'transform' attribute\n",
        "X_train_tfidf = tfidf_vectorizer.transform(X_train)\n",
        "X_test_tfidf = tfidf_vectorizer.transform(X_test)\n",
        "\n",
        "\n",
        "# 5. Print the matrix\n",
        "print(X_train_tfidf.todense())"
      ]
    },
    {
      "cell_type": "markdown",
      "metadata": {
        "id": "aZFJB76aiV70"
      },
      "source": [
        "## Step 5: Fit a Logistic Regression Model to the Transformed Training Data and Evaluate the Model"
      ]
    },
    {
      "cell_type": "code",
      "execution_count": null,
      "metadata": {
        "colab": {
          "base_uri": "https://localhost:8080/"
        },
        "id": "nQLXBvnbibMn",
        "outputId": "89514701-d7ee-40fa-c875-5efe1c36f04e"
      },
      "outputs": [
        {
          "name": "stdout",
          "output_type": "stream",
          "text": [
            "AUC on the test data: 0.9147\n",
            "The size of the feature space: 18558\n",
            "Glimpse of first 5 entries of the mapping of a word to its column/feature index \n",
            "[('there', 16673), ('is', 9043), ('reason', 13533), ('this', 16714), ('book', 2189)]:\n"
          ]
        }
      ],
      "source": [
        "# 1. Create a LogisticRegression model object, and fit a Logistic Regression model to the transformed training data\n",
        "model = LogisticRegression(max_iter=200)\n",
        "model.fit(X_train_tfidf, y_train)\n",
        "\n",
        "# 2. Make predictions on the transformed test data using the predict_proba() method and\n",
        "# save the values of the second column\n",
        "probability_predictions = model.predict_proba(X_test_tfidf)[:,1]\n",
        "\n",
        "# 3. Make predictions on the transformed test data using the predict() method\n",
        "class_label_predictions = model.predict(X_test_tfidf)\n",
        "\n",
        "# 4. Compute the Area Under the ROC curve (AUC) for the test data. \n",
        "auc = roc_auc_score(y_test, probability_predictions)\n",
        "print('AUC on the test data: {:.4f}'.format(auc))\n",
        "\n",
        "# 5. Print out the size of the resulting feature space using the 'vocabulary_' attribute of the vectorizer\n",
        "len_feature_space = len(tfidf_vectorizer.vocabulary_)\n",
        "print('The size of the feature space: {0}'.format(len_feature_space))\n",
        "\n",
        "# 6. Get a glimpse of the features:\n",
        "first_five = list(tfidf_vectorizer.vocabulary_.items())[0:5]\n",
        "print('Glimpse of first 5 entries of the mapping of a word to its column/feature index \\n{}:'.format(first_five))"
      ]
    },
    {
      "cell_type": "code",
      "execution_count": 15,
      "metadata": {
        "colab": {
          "base_uri": "https://localhost:8080/"
        },
        "id": "pzjWsT1fifC3",
        "outputId": "5d62ca97-a80e-4352-bc46-8ef35ef83f77"
      },
      "outputs": [
        {
          "name": "stdout",
          "output_type": "stream",
          "text": [
            "Review #1:\n",
            "\n",
            "I've been a fan of Carol Dweck's scholarly work for years. Her work on self-esteem, self-concept, and the incremental vs. entity theories of intelligence provides some of the most powerfully useful tools I've encountered for educators and parents in their work with children, as well as in their own self-awareness and lives. I'm delighted to see this information written here in such a user-friendly conversational tone, rich with stories that illustrate the nuances and complexities of Dweck's research and ideas. I'm recommending this book to all of my graduate students (teachers and principals working with gifted learners), as well as to parents of high-ability children.\n",
            "\n",
            "Dona Matthews, Ph.D., Director of the Hunter College Center for Gifted Studies and Education, City University of New York\n",
            "\n",
            "\n",
            "Prediction: Is this a good review? True\n",
            "\n",
            "Actual: Is this a good review? True\n",
            "\n"
          ]
        }
      ],
      "source": [
        "print('Review #1:\\n')\n",
        "print(X_test.to_numpy()[124])\n",
        "\n",
        "print('\\nPrediction: Is this a good review? {}\\n'.format(class_label_predictions[124]))\n",
        "\n",
        "print('Actual: Is this a good review? {}\\n'.format(y_test.to_numpy()[124]))"
      ]
    },
    {
      "cell_type": "code",
      "execution_count": 16,
      "metadata": {
        "colab": {
          "base_uri": "https://localhost:8080/"
        },
        "id": "1Qq3K7HGiidf",
        "outputId": "387de73d-31a0-4f09-a226-dcd8fca8b7a4"
      },
      "outputs": [
        {
          "name": "stdout",
          "output_type": "stream",
          "text": [
            "Review #2:\n",
            "\n",
            "I have read other books by Alesia Holliday and enjoyed them so I looked forward to reading this book.  Unfortunately, I could not get any farther than the first 25 pages.  I even tried diving in further into the book to see if it got better and I still could not read more than 5 pages without turning away.  The best I can do to pin down why I dislike it so much is to say that it tries too hard.  No character seems to even approach reality.  They are all, including the main character and her love interest, over the top\n",
            "\n",
            "\n",
            "Prediction: Is this a good review? False\n",
            "\n",
            "Actual: Is this a good review? False\n",
            "\n"
          ]
        }
      ],
      "source": [
        "print('Review #2:\\n')\n",
        "print(X_test.to_numpy()[238])\n",
        "\n",
        "print('\\nPrediction: Is this a good review? {}\\n'.format(class_label_predictions[238]))\n",
        "\n",
        "print('Actual: Is this a good review? {}\\n'.format(y_test.to_numpy()[238]))"
      ]
    }
  ],
  "metadata": {
    "colab": {
      "provenance": []
    },
    "kernelspec": {
      "display_name": "base",
      "language": "python",
      "name": "python3"
    },
    "language_info": {
      "codemirror_mode": {
        "name": "ipython",
        "version": 3
      },
      "file_extension": ".py",
      "mimetype": "text/x-python",
      "name": "python",
      "nbconvert_exporter": "python",
      "pygments_lexer": "ipython3",
      "version": "3.12.4"
    }
  },
  "nbformat": 4,
  "nbformat_minor": 0
}
